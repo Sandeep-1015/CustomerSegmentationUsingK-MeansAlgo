{
 "cells": [
  {
   "cell_type": "markdown",
   "id": "37f92d75",
   "metadata": {},
   "source": [
    "# Importing the Dependencies"
   ]
  },
  {
   "cell_type": "code",
   "execution_count": null,
   "id": "63fc9feb",
   "metadata": {},
   "outputs": [],
   "source": [
    "import numpy as np\n",
    "import pandas as pd\n",
    "import matplotlib.pyplot as plt\n",
    "import seaborn as sns\n",
    "from sklearn.cluster import KMeans"
   ]
  },
  {
   "cell_type": "markdown",
   "id": "d0ea7d87",
   "metadata": {},
   "source": [
    "# Data Import & It's Analysis"
   ]
  },
  {
   "cell_type": "code",
   "execution_count": 14,
   "id": "13041a3f",
   "metadata": {},
   "outputs": [],
   "source": [
    "customer_data = pd.read_csv(r\"C:\\Users\\ASUS\\Downloads\\archive (14)\\Mall_Customers.csv\")"
   ]
  },
  {
   "cell_type": "code",
   "execution_count": 15,
   "id": "409fec64",
   "metadata": {},
   "outputs": [
    {
     "data": {
      "text/html": [
       "<div>\n",
       "<style scoped>\n",
       "    .dataframe tbody tr th:only-of-type {\n",
       "        vertical-align: middle;\n",
       "    }\n",
       "\n",
       "    .dataframe tbody tr th {\n",
       "        vertical-align: top;\n",
       "    }\n",
       "\n",
       "    .dataframe thead th {\n",
       "        text-align: right;\n",
       "    }\n",
       "</style>\n",
       "<table border=\"1\" class=\"dataframe\">\n",
       "  <thead>\n",
       "    <tr style=\"text-align: right;\">\n",
       "      <th></th>\n",
       "      <th>CustomerID</th>\n",
       "      <th>Gender</th>\n",
       "      <th>Age</th>\n",
       "      <th>Annual Income (k$)</th>\n",
       "      <th>Spending Score (1-100)</th>\n",
       "    </tr>\n",
       "  </thead>\n",
       "  <tbody>\n",
       "    <tr>\n",
       "      <th>0</th>\n",
       "      <td>1.0</td>\n",
       "      <td>Male</td>\n",
       "      <td>19.0</td>\n",
       "      <td>15.0</td>\n",
       "      <td>39.0</td>\n",
       "    </tr>\n",
       "    <tr>\n",
       "      <th>1</th>\n",
       "      <td>2.0</td>\n",
       "      <td>Male</td>\n",
       "      <td>21.0</td>\n",
       "      <td>NaN</td>\n",
       "      <td>81.0</td>\n",
       "    </tr>\n",
       "    <tr>\n",
       "      <th>2</th>\n",
       "      <td>3.0</td>\n",
       "      <td>Female</td>\n",
       "      <td>20.0</td>\n",
       "      <td>16.0</td>\n",
       "      <td>6.0</td>\n",
       "    </tr>\n",
       "    <tr>\n",
       "      <th>3</th>\n",
       "      <td>4.0</td>\n",
       "      <td>Female</td>\n",
       "      <td>23.0</td>\n",
       "      <td>16.0</td>\n",
       "      <td>77.0</td>\n",
       "    </tr>\n",
       "    <tr>\n",
       "      <th>4</th>\n",
       "      <td>5.0</td>\n",
       "      <td>Female</td>\n",
       "      <td>31.0</td>\n",
       "      <td>17.0</td>\n",
       "      <td>40.0</td>\n",
       "    </tr>\n",
       "  </tbody>\n",
       "</table>\n",
       "</div>"
      ],
      "text/plain": [
       "   CustomerID  Gender   Age  Annual Income (k$)  Spending Score (1-100)\n",
       "0         1.0    Male  19.0                15.0                    39.0\n",
       "1         2.0    Male  21.0                 NaN                    81.0\n",
       "2         3.0  Female  20.0                16.0                     6.0\n",
       "3         4.0  Female  23.0                16.0                    77.0\n",
       "4         5.0  Female  31.0                17.0                    40.0"
      ]
     },
     "execution_count": 15,
     "metadata": {},
     "output_type": "execute_result"
    }
   ],
   "source": [
    "customer_data.head()"
   ]
  },
  {
   "cell_type": "code",
   "execution_count": 16,
   "id": "7390588a",
   "metadata": {},
   "outputs": [
    {
     "data": {
      "text/plain": [
       "(202, 5)"
      ]
     },
     "execution_count": 16,
     "metadata": {},
     "output_type": "execute_result"
    }
   ],
   "source": [
    "customer_data.shape"
   ]
  },
  {
   "cell_type": "code",
   "execution_count": 17,
   "id": "a794eb44",
   "metadata": {},
   "outputs": [
    {
     "name": "stdout",
     "output_type": "stream",
     "text": [
      "<class 'pandas.core.frame.DataFrame'>\n",
      "RangeIndex: 202 entries, 0 to 201\n",
      "Data columns (total 5 columns):\n",
      " #   Column                  Non-Null Count  Dtype  \n",
      "---  ------                  --------------  -----  \n",
      " 0   CustomerID              200 non-null    float64\n",
      " 1   Gender                  200 non-null    object \n",
      " 2   Age                     200 non-null    float64\n",
      " 3   Annual Income (k$)      195 non-null    float64\n",
      " 4   Spending Score (1-100)  200 non-null    float64\n",
      "dtypes: float64(4), object(1)\n",
      "memory usage: 8.0+ KB\n"
     ]
    }
   ],
   "source": [
    "customer_data.info()"
   ]
  },
  {
   "cell_type": "markdown",
   "id": "56e6fc2e",
   "metadata": {},
   "source": [
    "# Checking for NULL Values in Dataset"
   ]
  },
  {
   "cell_type": "code",
   "execution_count": 18,
   "id": "8ea3c7af",
   "metadata": {},
   "outputs": [
    {
     "data": {
      "text/plain": [
       "CustomerID                2\n",
       "Gender                    2\n",
       "Age                       2\n",
       "Annual Income (k$)        7\n",
       "Spending Score (1-100)    2\n",
       "dtype: int64"
      ]
     },
     "execution_count": 18,
     "metadata": {},
     "output_type": "execute_result"
    }
   ],
   "source": [
    "customer_data.isnull().sum()"
   ]
  },
  {
   "cell_type": "markdown",
   "id": "2118aae7",
   "metadata": {},
   "source": [
    "# Different Statistic values"
   ]
  },
  {
   "cell_type": "code",
   "execution_count": 72,
   "id": "2b1ff56b",
   "metadata": {},
   "outputs": [
    {
     "data": {
      "text/html": [
       "<div>\n",
       "<style scoped>\n",
       "    .dataframe tbody tr th:only-of-type {\n",
       "        vertical-align: middle;\n",
       "    }\n",
       "\n",
       "    .dataframe tbody tr th {\n",
       "        vertical-align: top;\n",
       "    }\n",
       "\n",
       "    .dataframe thead th {\n",
       "        text-align: right;\n",
       "    }\n",
       "</style>\n",
       "<table border=\"1\" class=\"dataframe\">\n",
       "  <thead>\n",
       "    <tr style=\"text-align: right;\">\n",
       "      <th></th>\n",
       "      <th>CustomerID</th>\n",
       "      <th>Age</th>\n",
       "      <th>Annual Income (k$)</th>\n",
       "      <th>Spending Score (1-100)</th>\n",
       "    </tr>\n",
       "  </thead>\n",
       "  <tbody>\n",
       "    <tr>\n",
       "      <th>count</th>\n",
       "      <td>202.000000</td>\n",
       "      <td>202.000000</td>\n",
       "      <td>202.000000</td>\n",
       "      <td>202.000000</td>\n",
       "    </tr>\n",
       "    <tr>\n",
       "      <th>mean</th>\n",
       "      <td>100.108403</td>\n",
       "      <td>39.068799</td>\n",
       "      <td>60.948718</td>\n",
       "      <td>50.306423</td>\n",
       "    </tr>\n",
       "    <tr>\n",
       "      <th>std</th>\n",
       "      <td>57.724152</td>\n",
       "      <td>14.071342</td>\n",
       "      <td>25.301121</td>\n",
       "      <td>25.716865</td>\n",
       "    </tr>\n",
       "    <tr>\n",
       "      <th>min</th>\n",
       "      <td>1.000000</td>\n",
       "      <td>18.000000</td>\n",
       "      <td>15.000000</td>\n",
       "      <td>1.000000</td>\n",
       "    </tr>\n",
       "    <tr>\n",
       "      <th>25%</th>\n",
       "      <td>51.250000</td>\n",
       "      <td>29.000000</td>\n",
       "      <td>43.000000</td>\n",
       "      <td>35.000000</td>\n",
       "    </tr>\n",
       "    <tr>\n",
       "      <th>50%</th>\n",
       "      <td>99.500000</td>\n",
       "      <td>36.000000</td>\n",
       "      <td>60.974359</td>\n",
       "      <td>50.000000</td>\n",
       "    </tr>\n",
       "    <tr>\n",
       "      <th>75%</th>\n",
       "      <td>149.750000</td>\n",
       "      <td>49.000000</td>\n",
       "      <td>77.750000</td>\n",
       "      <td>72.750000</td>\n",
       "    </tr>\n",
       "    <tr>\n",
       "      <th>max</th>\n",
       "      <td>200.000000</td>\n",
       "      <td>70.000000</td>\n",
       "      <td>137.000000</td>\n",
       "      <td>99.000000</td>\n",
       "    </tr>\n",
       "  </tbody>\n",
       "</table>\n",
       "</div>"
      ],
      "text/plain": [
       "       CustomerID         Age  Annual Income (k$)  Spending Score (1-100)\n",
       "count  202.000000  202.000000          202.000000              202.000000\n",
       "mean   100.108403   39.068799           60.948718               50.306423\n",
       "std     57.724152   14.071342           25.301121               25.716865\n",
       "min      1.000000   18.000000           15.000000                1.000000\n",
       "25%     51.250000   29.000000           43.000000               35.000000\n",
       "50%     99.500000   36.000000           60.974359               50.000000\n",
       "75%    149.750000   49.000000           77.750000               72.750000\n",
       "max    200.000000   70.000000          137.000000               99.000000"
      ]
     },
     "execution_count": 72,
     "metadata": {},
     "output_type": "execute_result"
    }
   ],
   "source": [
    "customer_data.describe()"
   ]
  },
  {
   "cell_type": "markdown",
   "id": "2114be73",
   "metadata": {},
   "source": [
    "# Fill null values with Mean value"
   ]
  },
  {
   "cell_type": "code",
   "execution_count": 71,
   "id": "2ef70a0a",
   "metadata": {},
   "outputs": [
    {
     "data": {
      "text/html": [
       "<div>\n",
       "<style scoped>\n",
       "    .dataframe tbody tr th:only-of-type {\n",
       "        vertical-align: middle;\n",
       "    }\n",
       "\n",
       "    .dataframe tbody tr th {\n",
       "        vertical-align: top;\n",
       "    }\n",
       "\n",
       "    .dataframe thead th {\n",
       "        text-align: right;\n",
       "    }\n",
       "</style>\n",
       "<table border=\"1\" class=\"dataframe\">\n",
       "  <thead>\n",
       "    <tr style=\"text-align: right;\">\n",
       "      <th></th>\n",
       "      <th>CustomerID</th>\n",
       "      <th>Gender</th>\n",
       "      <th>Age</th>\n",
       "      <th>Annual Income (k$)</th>\n",
       "      <th>Spending Score (1-100)</th>\n",
       "    </tr>\n",
       "  </thead>\n",
       "  <tbody>\n",
       "    <tr>\n",
       "      <th>0</th>\n",
       "      <td>1.000000</td>\n",
       "      <td>Male</td>\n",
       "      <td>19.000000</td>\n",
       "      <td>15.000000</td>\n",
       "      <td>39.000000</td>\n",
       "    </tr>\n",
       "    <tr>\n",
       "      <th>1</th>\n",
       "      <td>2.000000</td>\n",
       "      <td>Male</td>\n",
       "      <td>21.000000</td>\n",
       "      <td>60.948718</td>\n",
       "      <td>81.000000</td>\n",
       "    </tr>\n",
       "    <tr>\n",
       "      <th>2</th>\n",
       "      <td>3.000000</td>\n",
       "      <td>Female</td>\n",
       "      <td>20.000000</td>\n",
       "      <td>16.000000</td>\n",
       "      <td>6.000000</td>\n",
       "    </tr>\n",
       "    <tr>\n",
       "      <th>3</th>\n",
       "      <td>4.000000</td>\n",
       "      <td>Female</td>\n",
       "      <td>23.000000</td>\n",
       "      <td>16.000000</td>\n",
       "      <td>77.000000</td>\n",
       "    </tr>\n",
       "    <tr>\n",
       "      <th>4</th>\n",
       "      <td>5.000000</td>\n",
       "      <td>Female</td>\n",
       "      <td>31.000000</td>\n",
       "      <td>17.000000</td>\n",
       "      <td>40.000000</td>\n",
       "    </tr>\n",
       "    <tr>\n",
       "      <th>...</th>\n",
       "      <td>...</td>\n",
       "      <td>...</td>\n",
       "      <td>...</td>\n",
       "      <td>...</td>\n",
       "      <td>...</td>\n",
       "    </tr>\n",
       "    <tr>\n",
       "      <th>197</th>\n",
       "      <td>198.000000</td>\n",
       "      <td>Male</td>\n",
       "      <td>32.000000</td>\n",
       "      <td>126.000000</td>\n",
       "      <td>74.000000</td>\n",
       "    </tr>\n",
       "    <tr>\n",
       "      <th>198</th>\n",
       "      <td>199.000000</td>\n",
       "      <td>Male</td>\n",
       "      <td>32.000000</td>\n",
       "      <td>137.000000</td>\n",
       "      <td>18.000000</td>\n",
       "    </tr>\n",
       "    <tr>\n",
       "      <th>199</th>\n",
       "      <td>200.000000</td>\n",
       "      <td>Male</td>\n",
       "      <td>30.000000</td>\n",
       "      <td>137.000000</td>\n",
       "      <td>83.000000</td>\n",
       "    </tr>\n",
       "    <tr>\n",
       "      <th>200</th>\n",
       "      <td>60.948718</td>\n",
       "      <td>60.948718</td>\n",
       "      <td>60.948718</td>\n",
       "      <td>60.948718</td>\n",
       "      <td>60.948718</td>\n",
       "    </tr>\n",
       "    <tr>\n",
       "      <th>201</th>\n",
       "      <td>60.948718</td>\n",
       "      <td>60.948718</td>\n",
       "      <td>60.948718</td>\n",
       "      <td>60.948718</td>\n",
       "      <td>60.948718</td>\n",
       "    </tr>\n",
       "  </tbody>\n",
       "</table>\n",
       "<p>202 rows × 5 columns</p>\n",
       "</div>"
      ],
      "text/plain": [
       "     CustomerID     Gender        Age  Annual Income (k$)  \\\n",
       "0      1.000000       Male  19.000000           15.000000   \n",
       "1      2.000000       Male  21.000000           60.948718   \n",
       "2      3.000000     Female  20.000000           16.000000   \n",
       "3      4.000000     Female  23.000000           16.000000   \n",
       "4      5.000000     Female  31.000000           17.000000   \n",
       "..          ...        ...        ...                 ...   \n",
       "197  198.000000       Male  32.000000          126.000000   \n",
       "198  199.000000       Male  32.000000          137.000000   \n",
       "199  200.000000       Male  30.000000          137.000000   \n",
       "200   60.948718  60.948718  60.948718           60.948718   \n",
       "201   60.948718  60.948718  60.948718           60.948718   \n",
       "\n",
       "     Spending Score (1-100)  \n",
       "0                 39.000000  \n",
       "1                 81.000000  \n",
       "2                  6.000000  \n",
       "3                 77.000000  \n",
       "4                 40.000000  \n",
       "..                      ...  \n",
       "197               74.000000  \n",
       "198               18.000000  \n",
       "199               83.000000  \n",
       "200               60.948718  \n",
       "201               60.948718  \n",
       "\n",
       "[202 rows x 5 columns]"
      ]
     },
     "execution_count": 71,
     "metadata": {},
     "output_type": "execute_result"
    }
   ],
   "source": [
    "customer_data.fillna(value=customer_data[\"Annual Income (k$)\"].mean())\n",
    "  "
   ]
  },
  {
   "cell_type": "markdown",
   "id": "07bee6e3",
   "metadata": {},
   "source": [
    "# Check Null values are filled with mean or not"
   ]
  },
  {
   "cell_type": "code",
   "execution_count": 40,
   "id": "64f1297f",
   "metadata": {},
   "outputs": [
    {
     "data": {
      "text/plain": [
       "CustomerID                0\n",
       "Gender                    0\n",
       "Age                       0\n",
       "Annual Income (k$)        0\n",
       "Spending Score (1-100)    0\n",
       "dtype: int64"
      ]
     },
     "execution_count": 40,
     "metadata": {},
     "output_type": "execute_result"
    }
   ],
   "source": [
    "customer_data.isnull().sum()"
   ]
  },
  {
   "cell_type": "markdown",
   "id": "ff9be1ca",
   "metadata": {},
   "source": [
    "# Data segmentation choosing \"Annual Income\" & \"Spending Score\" columns "
   ]
  },
  {
   "cell_type": "code",
   "execution_count": 65,
   "id": "e67390cf",
   "metadata": {},
   "outputs": [],
   "source": [
    "X = customer_data.iloc[:,[3,4]].values"
   ]
  },
  {
   "cell_type": "code",
   "execution_count": 66,
   "id": "ef753928",
   "metadata": {},
   "outputs": [
    {
     "name": "stdout",
     "output_type": "stream",
     "text": [
      "[[ 15.          39.        ]\n",
      " [ 60.94871795  81.        ]\n",
      " [ 16.           6.        ]\n",
      " [ 16.          77.        ]\n",
      " [ 17.          40.        ]\n",
      " [ 17.          76.        ]\n",
      " [ 18.           6.        ]\n",
      " [ 18.          94.        ]\n",
      " [ 19.           3.        ]\n",
      " [ 60.94871795  72.        ]\n",
      " [ 19.          14.        ]\n",
      " [ 19.          99.        ]\n",
      " [ 20.          15.        ]\n",
      " [ 20.          77.        ]\n",
      " [ 20.          13.        ]\n",
      " [ 20.          79.        ]\n",
      " [ 21.          35.        ]\n",
      " [ 21.          66.        ]\n",
      " [ 23.          29.        ]\n",
      " [ 23.          98.        ]\n",
      " [ 24.          35.        ]\n",
      " [ 24.          73.        ]\n",
      " [ 25.           5.        ]\n",
      " [ 25.          73.        ]\n",
      " [ 28.          14.        ]\n",
      " [ 28.          82.        ]\n",
      " [ 28.          32.        ]\n",
      " [ 28.          61.        ]\n",
      " [ 29.          31.        ]\n",
      " [ 29.          87.        ]\n",
      " [ 60.94871795   4.        ]\n",
      " [ 30.          73.        ]\n",
      " [ 33.           4.        ]\n",
      " [ 33.          92.        ]\n",
      " [ 33.          14.        ]\n",
      " [ 33.          81.        ]\n",
      " [ 34.          17.        ]\n",
      " [ 34.          73.        ]\n",
      " [ 37.          26.        ]\n",
      " [ 37.          75.        ]\n",
      " [ 38.          35.        ]\n",
      " [ 38.          92.        ]\n",
      " [ 39.          36.        ]\n",
      " [ 39.          61.        ]\n",
      " [ 39.          28.        ]\n",
      " [ 39.          65.        ]\n",
      " [ 40.          55.        ]\n",
      " [ 40.          47.        ]\n",
      " [ 40.          42.        ]\n",
      " [ 40.          42.        ]\n",
      " [ 42.          52.        ]\n",
      " [ 42.          60.        ]\n",
      " [ 43.          54.        ]\n",
      " [ 60.94871795  60.        ]\n",
      " [ 43.          45.        ]\n",
      " [ 43.          41.        ]\n",
      " [ 44.          50.        ]\n",
      " [ 44.          46.        ]\n",
      " [ 46.          51.        ]\n",
      " [ 46.          46.        ]\n",
      " [ 46.          56.        ]\n",
      " [ 46.          55.        ]\n",
      " [ 47.          52.        ]\n",
      " [ 47.          59.        ]\n",
      " [ 48.          51.        ]\n",
      " [ 48.          59.        ]\n",
      " [ 48.          50.        ]\n",
      " [ 48.          48.        ]\n",
      " [ 48.          59.        ]\n",
      " [ 48.          47.        ]\n",
      " [ 49.          55.        ]\n",
      " [ 49.          42.        ]\n",
      " [ 50.          49.        ]\n",
      " [ 50.          56.        ]\n",
      " [ 54.          47.        ]\n",
      " [ 54.          54.        ]\n",
      " [ 54.          53.        ]\n",
      " [ 54.          48.        ]\n",
      " [ 54.          52.        ]\n",
      " [ 54.          42.        ]\n",
      " [ 54.          51.        ]\n",
      " [ 54.          55.        ]\n",
      " [ 54.          41.        ]\n",
      " [ 54.          44.        ]\n",
      " [ 54.          57.        ]\n",
      " [ 54.          46.        ]\n",
      " [ 57.          58.        ]\n",
      " [ 57.          55.        ]\n",
      " [ 58.          60.        ]\n",
      " [ 58.          46.        ]\n",
      " [ 59.          55.        ]\n",
      " [ 59.          41.        ]\n",
      " [ 60.          49.        ]\n",
      " [ 60.          40.        ]\n",
      " [ 60.          42.        ]\n",
      " [ 60.          52.        ]\n",
      " [ 60.          47.        ]\n",
      " [ 60.          50.        ]\n",
      " [ 61.          42.        ]\n",
      " [ 61.          49.        ]\n",
      " [ 62.          41.        ]\n",
      " [ 62.          48.        ]\n",
      " [ 62.          59.        ]\n",
      " [ 62.          55.        ]\n",
      " [ 62.          56.        ]\n",
      " [ 62.          42.        ]\n",
      " [ 63.          50.        ]\n",
      " [ 63.          46.        ]\n",
      " [ 63.          43.        ]\n",
      " [ 63.          48.        ]\n",
      " [ 63.          52.        ]\n",
      " [ 63.          54.        ]\n",
      " [ 64.          42.        ]\n",
      " [ 64.          46.        ]\n",
      " [ 65.          48.        ]\n",
      " [ 65.          50.        ]\n",
      " [ 65.          43.        ]\n",
      " [ 65.          59.        ]\n",
      " [ 67.          43.        ]\n",
      " [ 67.          57.        ]\n",
      " [ 67.          56.        ]\n",
      " [ 67.          40.        ]\n",
      " [ 69.          58.        ]\n",
      " [ 69.          91.        ]\n",
      " [ 70.          29.        ]\n",
      " [ 70.          77.        ]\n",
      " [ 71.          35.        ]\n",
      " [ 71.          95.        ]\n",
      " [ 71.          11.        ]\n",
      " [ 71.          75.        ]\n",
      " [ 71.           9.        ]\n",
      " [ 71.          75.        ]\n",
      " [ 72.          34.        ]\n",
      " [ 72.          71.        ]\n",
      " [ 73.           5.        ]\n",
      " [ 73.          88.        ]\n",
      " [ 73.           7.        ]\n",
      " [ 73.          73.        ]\n",
      " [ 74.          10.        ]\n",
      " [ 74.          72.        ]\n",
      " [ 75.           5.        ]\n",
      " [ 75.          93.        ]\n",
      " [ 76.          40.        ]\n",
      " [ 76.          87.        ]\n",
      " [ 77.          12.        ]\n",
      " [ 77.          97.        ]\n",
      " [ 77.          36.        ]\n",
      " [ 77.          74.        ]\n",
      " [ 78.          22.        ]\n",
      " [ 78.          90.        ]\n",
      " [ 78.          17.        ]\n",
      " [ 78.          88.        ]\n",
      " [ 78.          20.        ]\n",
      " [ 78.          76.        ]\n",
      " [ 78.          16.        ]\n",
      " [ 78.          89.        ]\n",
      " [ 78.           1.        ]\n",
      " [ 78.          78.        ]\n",
      " [ 78.           1.        ]\n",
      " [ 78.          73.        ]\n",
      " [ 79.          35.        ]\n",
      " [ 79.          83.        ]\n",
      " [ 81.           5.        ]\n",
      " [ 81.          93.        ]\n",
      " [ 85.          26.        ]\n",
      " [ 85.          75.        ]\n",
      " [ 86.          20.        ]\n",
      " [ 86.          95.        ]\n",
      " [ 87.          27.        ]\n",
      " [ 87.          63.        ]\n",
      " [ 87.          13.        ]\n",
      " [ 87.          75.        ]\n",
      " [ 87.          10.        ]\n",
      " [ 87.          92.        ]\n",
      " [ 88.          13.        ]\n",
      " [ 88.          86.        ]\n",
      " [ 88.          15.        ]\n",
      " [ 88.          69.        ]\n",
      " [ 93.          14.        ]\n",
      " [ 93.          90.        ]\n",
      " [ 97.          32.        ]\n",
      " [ 97.          86.        ]\n",
      " [ 98.          15.        ]\n",
      " [ 98.          88.        ]\n",
      " [ 99.          39.        ]\n",
      " [ 99.          97.        ]\n",
      " [101.          24.        ]\n",
      " [101.          68.        ]\n",
      " [103.          17.        ]\n",
      " [103.          85.        ]\n",
      " [103.          23.        ]\n",
      " [103.          69.        ]\n",
      " [113.           8.        ]\n",
      " [113.          91.        ]\n",
      " [ 60.94871795  16.        ]\n",
      " [120.          79.        ]\n",
      " [126.          28.        ]\n",
      " [126.          74.        ]\n",
      " [137.          18.        ]\n",
      " [137.          83.        ]\n",
      " [ 60.94871795  60.94871795]\n",
      " [ 60.94871795  60.94871795]]\n"
     ]
    }
   ],
   "source": [
    "print(X)"
   ]
  },
  {
   "cell_type": "markdown",
   "id": "ef62db80",
   "metadata": {},
   "source": [
    "# Calculating wcss value for different number of clusters"
   ]
  },
  {
   "cell_type": "code",
   "execution_count": 67,
   "id": "0dd3cde4",
   "metadata": {},
   "outputs": [
    {
     "name": "stderr",
     "output_type": "stream",
     "text": [
      "C:\\Users\\ASUS\\anaconda3\\New folder\\lib\\site-packages\\sklearn\\cluster\\_kmeans.py:881: UserWarning: KMeans is known to have a memory leak on Windows with MKL, when there are less chunks than available threads. You can avoid it by setting the environment variable OMP_NUM_THREADS=1.\n",
      "  warnings.warn(\n"
     ]
    }
   ],
   "source": [
    "\n",
    "wcss = []\n",
    "\n",
    "for i in range(1,11):\n",
    "  kmeans = KMeans(n_clusters=i, init='k-means++', random_state=42)\n",
    "  kmeans.fit(X)\n",
    "\n",
    "  wcss.append(kmeans.inertia_)"
   ]
  },
  {
   "cell_type": "markdown",
   "id": "262985a5",
   "metadata": {},
   "source": [
    "# Elbow graph to find optimum Number of Clusters"
   ]
  },
  {
   "cell_type": "code",
   "execution_count": 68,
   "id": "66809c82",
   "metadata": {},
   "outputs": [
    {
     "data": {
      "image/png": "[encoded data removed]",
      "text/plain": [
       "<Figure size 432x288 with 1 Axes>"
      ]
     },
     "metadata": {},
     "output_type": "display_data"
    }
   ],
   "source": [
    "sns.set()\n",
    "plt.plot(range(1,11), wcss)\n",
    "plt.title('The Elbow Point Graph')\n",
    "plt.xlabel('Number of Clusters')\n",
    "plt.ylabel('WCSS')\n",
    "plt.show()"
   ]
  },
  {
   "cell_type": "markdown",
   "id": "08a8a691",
   "metadata": {},
   "source": [
    "# Training the k-Means Clustering Model"
   ]
  },
  {
   "cell_type": "code",
   "execution_count": 69,
   "id": "060afec1",
   "metadata": {},
   "outputs": [
    {
     "name": "stdout",
     "output_type": "stream",
     "text": [
      "[4 2 4 3 4 3 4 3 4 1 4 3 4 3 4 3 4 3 4 3 4 3 4 3 4 3 4 3 4 3 0 3 4 3 4 3 4\n",
      " 3 4 3 4 3 4 1 4 3 1 1 1 1 1 1 1 1 1 1 1 1 1 1 1 1 1 1 1 1 1 1 1 1 1 1 1 1\n",
      " 1 1 1 1 1 1 1 1 1 1 1 1 1 1 1 1 1 1 1 1 1 1 1 1 1 1 1 1 1 1 1 1 1 1 1 1 1\n",
      " 1 1 1 1 1 1 1 1 1 1 1 1 2 0 2 1 2 0 2 0 2 0 2 0 2 0 2 0 2 0 2 1 2 0 2 0 2\n",
      " 0 2 0 2 0 2 0 2 0 2 0 2 0 2 0 2 0 2 0 2 0 2 0 2 0 2 0 2 0 2 0 2 0 2 0 2 0\n",
      " 2 0 2 0 2 0 2 0 2 0 2 0 2 0 2 1 1]\n"
     ]
    }
   ],
   "source": [
    "kmeans = KMeans(n_clusters=5, init='k-means++', random_state=0)\n",
    "\n",
    "\n",
    "Y = kmeans.fit_predict(X)\n",
    "\n",
    "print(Y)"
   ]
  },
  {
   "cell_type": "markdown",
   "id": "6b3f271f",
   "metadata": {},
   "source": [
    "# Visualization of  all the Clusters"
   ]
  },
  {
   "cell_type": "code",
   "execution_count": 48,
   "id": "68fa6c12",
   "metadata": {},
   "outputs": [
    {
     "data": {
      "image/png": "[encoded data removed]",
      "text/plain": [
       "<Figure size 576x576 with 1 Axes>"
      ]
     },
     "metadata": {},
     "output_type": "display_data"
    }
   ],
   "source": [
    "plt.figure(figsize=(8,8))\n",
    "plt.scatter(X[Y==0,0], X[Y==0,1], s=50, c='green', label='Cluster 1')\n",
    "plt.scatter(X[Y==1,0], X[Y==1,1], s=50, c='red', label='Cluster 2')\n",
    "plt.scatter(X[Y==2,0], X[Y==2,1], s=50, c='yellow', label='Cluster 3')\n",
    "plt.scatter(X[Y==3,0], X[Y==3,1], s=50, c='violet', label='Cluster 4')\n",
    "plt.scatter(X[Y==4,0], X[Y==4,1], s=50, c='blue', label='Cluster 5')\n",
    "\n",
    "plt.scatter(kmeans.cluster_centers_[:,0], kmeans.cluster_centers_[:,1], s=100, c='black', label='Centroids')\n",
    "\n",
    "plt.title('Customer Groups')\n",
    "plt.xlabel('Annual Income')\n",
    "plt.ylabel('Spending Score')\n",
    "plt.show()"
   ]
  },
  {
   "cell_type": "code",
   "execution_count": null,
   "id": "7f76361e",
   "metadata": {},
   "outputs": [],
   "source": []
  }
 ],
 "metadata": {
  "kernelspec": {
   "display_name": "Python 3 (ipykernel)",
   "language": "python",
   "name": "python3"
  },
  "language_info": {
   "codemirror_mode": {
    "name": "ipython",
    "version": 3
   },
   "file_extension": ".py",
   "mimetype": "text/x-python",
   "name": "python",
   "nbconvert_exporter": "python",
   "pygments_lexer": "ipython3",
   "version": "3.9.7"
  }
 },
 "nbformat": 4,
 "nbformat_minor": 5
}
